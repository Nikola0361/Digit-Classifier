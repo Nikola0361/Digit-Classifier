{
 "cells": [
  {
   "cell_type": "markdown",
   "metadata": {},
   "source": [
    "## Machine Learning 2 Coursework 1  \n",
    "24/10/2024 - 7/11/2024\n",
    "\\\n",
    "Nikola Cicovic"
   ]
  },
  {
   "cell_type": "markdown",
   "metadata": {},
   "source": [
    "## Question 1 a)"
   ]
  },
  {
   "cell_type": "markdown",
   "metadata": {},
   "source": [
    "We pick points $ x^{(1)} = 2, y ^{(1)} = 1 \\text{ and } x^{(2)} = 5, y ^{(2)} = 0$\n",
    "\n",
    "for $x^{(1)}$ we require:\n",
    "\n",
    "$$\n",
    "\\begin{align*} \\sigma(\\xi(2)) \\ge & \\: 0.5 \n",
    "\\newline\n",
    "\\implies \\frac{1}{1+e^{-(2w+b)}} \\ge & \\: 0.5\n",
    "\n",
    "\\newline\n",
    "\\implies 1 \\ge & \\: 0.5 + 0.5e^{-(2w+b)} \\: \\: \\text{   as } e^{y} > 0 \\space  \\forall y\n",
    "\n",
    "\\newline\n",
    "\\implies 1 \\ge & \\: e^{-(2w+b)} \n",
    "\n",
    "\\newline\n",
    "\\implies 0 \\ge & \\: -(2w+b)   \\: \\: \\text{  as  log is monotone}\n",
    "\n",
    "\\newline\n",
    "\\implies 0 \\le & \\: 2w+b\n",
    "\n",
    "\\newline\n",
    "\\implies -2w \\le & \\: b\n",
    "\\end{align*}$$\n",
    "\n",
    "Repeating this for $x^{(2)} = 5, y ^{(2)} = 0$ we get\n",
    "$$\n",
    "\\begin{align*}\n",
    "\n",
    "\\sigma(\\xi(5)) < & \\: 0.5 \\\\\n",
    "\\implies 0> & \\: 5w+b \\\\\n",
    "\\implies -5w> & \\: b\n",
    "\n",
    "\\end{align*}\n",
    "$$\n",
    "\n",
    "\n",
    "Which along with the previous equation implies that \n",
    "$$\\begin{align*} \n",
    "5w < -b & \\: \\le 2w \\\\\n",
    "\\text{ and} \\\\\n",
    "5w+b < & \\: 2w + b \\\\\n",
    "3w < & \\: 0 \\\\ \n",
    "w <& \\: 0\n",
    "\n",
    "\\end{align*}\n",
    "$$\n",
    "\n",
    "Now we try the third point $x^{(3)} = 6, y ^{(3)} = 1$\n",
    "$$\n",
    "\\begin{align*}\n",
    "\\sigma(\\xi(6)) \\ge & \\: 0.5\n",
    "\\newline\n",
    "\\implies -6w-b \\le \\: &0\n",
    "\\newline\n",
    "\\implies -b \\le & \\: 6w\n",
    "\\end{align*}\n",
    "$$\n",
    "However we already have that $ -b > 5w $, and $ w < 0 $ tells us that $5w \\ge 6w$, so not possible! \n",
    "\n"
   ]
  },
  {
   "cell_type": "markdown",
   "metadata": {},
   "source": [
    "\n",
    "\n",
    "## Question 1 b)\n",
    "\n",
    "\n",
    "\n",
    "\n",
    "$$\n",
    "\\begin{align*}\n",
    "\\xi(t) = \\: &  b+ w_1 \\theta _1 (t) + w_2 \\theta _2 (t)\\\\\n",
    " =  \\: & b+ w_1 t + w_2 t^2\n",
    "\\end{align*}\n",
    "\\\\$$\n",
    "Take points $(x^{(i)},y^{(i)}) = (2,1), (5,0), (6,1)\\\\$\n",
    "\n",
    "\n",
    "for $(x^{(1)},y^{(1)})$ we get equation $(1)$\n",
    "$$\n",
    "\\begin{align*}\n",
    "\\sigma (\\xi (2)) = \\frac{1}{1+ e^{-(b+2w_1 + 4w_2)}} \\ge & \\: 0.5 \\\\\n",
    "\\implies 0 \\le & \\: b+2w_1 + 4w_2  \n",
    "\n",
    "\\end{align*}\n",
    "$$\n",
    "\n",
    "for $(x^{(2)},y^{(2)})$ we get equation $(2)$\n",
    "$$\n",
    "\\begin{align*}\n",
    "\\sigma (\\xi (5)) = \\frac{1}{1+ e^{-(b+5w_1 + 25w_2)}} < & \\: 0.5 \\\\\n",
    "\\implies 0 > & \\: b+5w_1 + 25w_2 \n",
    "\\end{align*}\n",
    "$$\n",
    "\n",
    "for $(x^{(3)},y^{(3)})$ we get equation $(3)$\n",
    "$$\n",
    "\\begin{align*}\n",
    "\\sigma (\\xi (6)) = \\frac{1}{1+ e^{-(b+6w_1 + 36w_2)}} \\ge & \\: 0.5 \\\\\n",
    "\\implies 0 \\le & \\: b+6w_1 + 36w_2 \n",
    "\\end{align*}\n",
    "$$\n",
    "\n",
    "If we add equations $(1)$ and $(2)$ and divide through by $2$ we obtain $ b \\ge -4w_1-20w_2 $ which we can, along with $(2)$ arrange for $w_2$ and compare to get: \n",
    "$$\\begin{align*} \\frac{-b-4w_1}{20} < & \\ \\: \\frac{-b-5w_1}{25} \\\\\n",
    "\\implies -25b -100 w_1 < & \\: -20b - 100w_1 \\\\\n",
    "\\implies b > & \\: 0 \n",
    "\\end{align*}\n",
    "$$\n",
    "Giving us our first restriction.\n",
    "\n",
    "Now we only consider 2 possibilities values where (1) and (2) are satisfied and where (3) and (2) are satisfied:\n",
    "\n",
    "If (1) and (2) are satisfied we obtain:\n",
    "\n",
    "$$ (A): \\: \\: \\frac{-b-2w_1}{4} \\le w_2 < \\frac{-b-5w_1}{25} $$\n",
    "\n",
    "and if (2) and (3) are satisfied we obtain:\n",
    "\n",
    "$$ (B): \\: \\: \\frac{-b-6w_1}{36} \\le w_2 < \\frac{-b-5w_1}{25} $$\n",
    "\n",
    "\n",
    "\n",
    "From equation (A) we also get: $ \\frac{-b-2w_1}{4} < \\frac{-b-5w_1}{25} $ which can be rearranged to give:\n",
    "$$-\\frac{7}{10} b < w_1 $$\n",
    "\n",
    "Now if we take that $\\frac{-b-2w_1}{4} \\ge \\frac{-b-6w_1}{36} $ (A) will still be satisfied as $w_2 \\ge \\frac{-b-2w_1}{4} $ regardless we get:\n",
    "$$\\begin{align*}\n",
    "\\frac{-b-2w_1}{4} \\ge & \\: \\frac{-b-6w_1}{36}\\\\\n",
    "\\implies \\: -36b-72w_1 \\ge & \\: -4b-24w_1 \\\\\n",
    "\\implies \\: w_1 \\le & \\:-\\frac{2b}{3}\n",
    "\\end{align*}$$\n",
    "giving us an upper bound on $w_1$\n",
    "\n",
    "\n",
    "From equation (B) we also get: $\\frac{-b-6w_1}{36} < \\frac{-b-5w_1}{25}$ which can be rearranged to give:\n",
    "$$ w_1 < -\\frac{11b}{30} $$\n",
    "\n",
    "\n",
    "Now if we instead take that $\\frac{-b-2w_1}{4} < \\frac{-b-6w_1}{36} $ (B) will be satisfied for similar reason as before, we get:\n",
    "$$\\begin{align*}\n",
    "\\frac{-b-2w_1}{4} < & \\: \\frac{-b-6w_1}{36}\\\\\n",
    "\\implies \\: -36b-72w_1 < & \\: -4b-24w_1 \\\\\n",
    "\\implies \\: w_1 > & \\:-\\frac{2b}{3}\n",
    "\\end{align*}$$\n",
    "giving us an upper bound on $w_1$ for case  (B)\n",
    "\n",
    "\n",
    "If we combine all of these conditions we get 2 cases:\n",
    "\n",
    "$$b > 0; \\: \\: -\\frac{7b}{10} <   w_1 \\le -\\frac{2b}{3};  \\: \\: \\: \\frac{-b-2w_1}{4} \\le w_2 < \\frac{-b-5w_1}{25} $$\n",
    "\n",
    "$$\\text{and}$$\n",
    "\n",
    "$$b > 0; \\: \\: -\\frac{2b}{3} <   w_1 < -\\frac{11b}{30};  \\: \\: \\: \\frac{-b-6w_1}{36} \\le w_2 < \\frac{-b-5w_1}{25} $$"
   ]
  },
  {
   "cell_type": "markdown",
   "metadata": {},
   "source": [
    "Pick $b = 60 > 0$\n",
    "\n",
    "That gives us a condition on $w_1$\n",
    "\n",
    "$-42 < w_1 \\le -40$\n",
    "\n",
    "Pick $w_1 = -41$ which satisfies it to give us a condition on $w_2$:\n",
    "\n",
    "$\\frac{11}{2} \\le w_2 < \\frac{145}{25}$\n",
    "\n",
    "So pick $w_2 = \\frac{28}{5}$ which satisfies above condition\n",
    "\n",
    "so pick $b = 60; w_1 = -41; w_2 = \\frac{28}{5}$\n",
    "\n",
    "If you need to be convinced that it works:\n",
    "https://www.desmos.com/calculator/ep2vmwf2ah"
   ]
  },
  {
   "cell_type": "markdown",
   "metadata": {},
   "source": [
    "## Question 1 c)\n",
    "\n",
    "We consider points $(1,0); (2,1); (3,0); (4,1); (5,0)$.\n",
    "\n",
    "and now function $\\xi$ is \n",
    "$$\\begin{equation}\n",
    "\\xi(t) = w_0 + w_1t + w_2t^2 + w_3t^3 + w_4t^4\n",
    "\\end{equation}\n",
    "$$\n",
    "\n",
    "by subing each of those points into $\\sigma(\\xi(t))$\n",
    "we get \n",
    "$$\n",
    "\\sigma(\\xi(1)) < 0.5 \\\\\n",
    "\\sigma(\\xi(2)) \\ge 0.5\\\\\n",
    "\\sigma(\\xi(3)) < 0.5\\\\\n",
    "\\sigma(\\xi(4)) \\ge 0.5\\\\\n",
    "\\sigma(\\xi(5)) < 0.5\n",
    "$$\n",
    "which simplify to following linear inequalities\n",
    "$$  w_0 + w_1 + w_2 + w_3 + w_4 < 0 \\\\\n",
    "w_0 + 2w_1 + 4w_2 + 8w_3 + 16w_4 \\ge 0 \\\\\n",
    "w_0 + 3w_1 + 9w_2 + 27w_3 + 81w_4 < 0 \\\\\n",
    "w_0 + 4w_1 + 16w_2 + 64w_3 + 256w_4 \\ge 0 \\\\\n",
    "w_0 + 5w_1 + 25w_2 + 125w_3 + 625w_4 < 0 \\\\\n",
    "$$\n",
    "\n",
    "As we only require a set of points for $w_i$ we just make each of them an equality and pick any value on the right side that satisfy the inequality, say $-1$ and $ 1$. We use this to form a linear equation of the form $Aw = b$.\n",
    "$$\n",
    "\\begin{pmatrix}\n",
    "1 & 1 & 1 & 1 & 1\\\\\n",
    "1 & 2 & 4 & 8 & 16\\\\\n",
    "1 & 3 & 9 & 27 & 81\\\\\n",
    "1 & 4 & 16 & 64 & 256\\\\\n",
    "1 & 5 & 25 & 125 & 625\\\\\n",
    "\\end{pmatrix} \\begin{pmatrix}\n",
    "w_0 \\\\\n",
    "w_1 \\\\\n",
    "w_2 \\\\\n",
    "w_3 \\\\\n",
    "w_3 \\\\\n",
    "\\end{pmatrix}  = \\begin{pmatrix}\n",
    "-1 \\\\\n",
    "1 \\\\\n",
    "-1 \\\\\n",
    "1 \\\\\n",
    "-1 \\\\\n",
    "\\end{pmatrix}$$\n",
    "\n",
    "gives \n",
    "$$ \\begin{pmatrix}\n",
    "w_0 \\\\\n",
    "w_1 \\\\\n",
    "w_2 \\\\\n",
    "w_3 \\\\\n",
    "w_3 \\\\\n",
    "\\end{pmatrix} = \\begin{pmatrix}\n",
    "-31 \\\\\n",
    "56 \\\\\n",
    "\\frac{-100}{3} \\\\\n",
    "8 \\\\\n",
    "-\\frac{2}{3} \\\\\n",
    "\\end{pmatrix}$$\n",
    "\n",
    "\n",
    "\n"
   ]
  },
  {
   "cell_type": "markdown",
   "metadata": {},
   "source": [
    "The minimum number n required to classify any 5 points is 4. \n",
    "\n",
    "We can show this by looking at the number of turning points that the graph has. We require at least 3 turning points so that you can find a set of parameters $w_i$ to classify all  5 points correctly as they are alternating between 0 and 1 every time. \n",
    "\n",
    "The reason we only require 3 turning points is because the first and last point are \"given\" to us automatically:\n",
    "$$\\lim_{t\\to\\infty}\\sigma(\\xi(t)) = 0 = \\lim_{t\\to -\\infty}\\sigma(\\xi(t)) \\: \\text{for } w_n < 0 \\text{ and n even}$$\n",
    "Similar is true for $w_n > 0$ except the limit is 1 and we don't care about those as first and last points should be labelled 0, and similarly n is even, as otherwise one limit would be 1 and the other 0. \n",
    "\n",
    "To prove there are 3 turning poitns we take the derivative:\n",
    "$$\\begin{align*} \\frac{d}{dt} \\sigma(\\xi(t)) \\\\\n",
    " = \\frac{d}{dt} \\frac{1}{1+e^{\\sum_{i=0}^{n} -w_i t^i}} \\\\\n",
    " = (-1) (1+e^{\\sum_{i=0}^{n} -w_i t^i})^{-2} \\frac{d}{dt} (1+e^{\\sum_{i=0}^{n} -w_i t^i}) & \\: \\: \\text{by 2 chain rules} \\\\ \n",
    " = \\frac{(\\sum_{i=0}^{n-1} -w_{i+1} t^i) (1+e^{\\sum_{i=0}^{n} -w_i t^i}) }{(1+e^{\\sum_{i=0}^{n} -w_i t^i})^{2}}\n",
    " \n",
    " \\end{align*}$$\n",
    "Now setting this to be equal to $0$:\n",
    "$$ \\begin{align*} \\frac{(\\sum_{i=0}^{n-1} -w_{i+1} t^i) (1+e^{\\sum_{i=0}^{n} -w_i t^i}) }{(1+e^{\\sum_{i=0}^{n} -w_i t^i})^{2} }=0 \\\\\n",
    "\\implies (\\sum_{i=0}^{n-1} -w_{i+1} t^i) (1+e^{\\sum_{i=0}^{n} -w_i t^i})  = 0 \n",
    "\\end{align*} $$\n",
    "\n",
    "and as $1+ e^x > 0$ as as $e^x > 0$ we know that only way above equation can be satisfied is with\n",
    "\n",
    "$$\\sum_{i=0}^{n-1} -w_{i+1} t^i = 0$$\n",
    "\n",
    "This is just a n-1 degree polynomial which has n-1 roots and as we require that we have 3 turning points so n = 4"
   ]
  },
  {
   "cell_type": "code",
   "execution_count": 28,
   "metadata": {},
   "outputs": [
    {
     "data": {
      "image/png": "[encoded data removed]",
      "text/plain": [
       "<Figure size 640x480 with 1 Axes>"
      ]
     },
     "metadata": {},
     "output_type": "display_data"
    }
   ],
   "source": [
    "import matplotlib.pyplot as plt\n",
    "import numpy as np\n",
    "\n",
    "def sigmoid(x):\n",
    "    return 1 / ( 1+ np.exp(-x))\n",
    "\n",
    "def polynomial(w,t):\n",
    "    return w[0] + t*w[1] + (t**2)*w[2] + (t**3)*w[3] + (t**4) * w[4]\n",
    "\n",
    "x = np.linspace(0,6,1000)\n",
    "y = sigmoid(polynomial([-31,56,-100/3,8,-2/3],x))\n",
    "\n",
    "\n",
    "plt.plot(x,y,label = r'$\\xi(\\sigma(t))$', color = \"#000000\")\n",
    "plt.plot([6/1000*i for i in range(1000)],[0.5 for i in range(1000)],color = \"#002B6C\",label = \"Threshold line\")\n",
    "plt.scatter([1,3,5],[0,0,0],color =  '#FF0000', label = \"Odd Integers\")\n",
    "plt.scatter([2,4],[1,1],color =  '#099B0E', label = \"Odd Integers\")\n",
    "\n",
    "plt.fill_between(x,0,1, where = y < 0.5,alpha = 0.2,color = \"red\")\n",
    "plt.fill_between(x,0,1, where = y > 0.5,alpha = 0.2, color = \"green\")\n",
    "plt.title(\"Binary classifier for n=4 \")\n",
    "plt.legend(loc = \"upper left\")\n",
    "plt.show()\n"
   ]
  },
  {
   "cell_type": "markdown",
   "metadata": {},
   "source": [
    "As can be seen above the areas shaded red is where the function $\\sigma(\\xi(t))<0.5$ and area shaded red $\\sigma(\\xi(t)) \\ge 0.5$ for values of $ w_i $ chosen above. The red points at x coordinates are the odd points and they clearly lie within the red area and green points lie within the green area so the values chosen work.\n",
    "\n"
   ]
  },
  {
   "cell_type": "code",
   "execution_count": 29,
   "metadata": {},
   "outputs": [
    {
     "name": "stdout",
     "output_type": "stream",
     "text": [
      "For digit 1 the model classified it as 0.\n",
      "For digit 2 the model classified it as 1.\n",
      "For digit 3 the model classified it as 0.\n",
      "For digit 4 the model classified it as 1.\n",
      "For digit 5 the model classified it as 0.\n"
     ]
    }
   ],
   "source": [
    "for i in range(1,6):\n",
    "    result = sigmoid(polynomial([-31,56,-100/3,8,-2/3],i))\n",
    "    if result >= 0.5:\n",
    "        print(f\"For digit {i} the model classified it as 1.\")\n",
    "    else:\n",
    "        print(f\"For digit {i} the model classified it as 0.\")"
   ]
  },
  {
   "cell_type": "markdown",
   "metadata": {},
   "source": [
    "**Advantages**: \n",
    "Increasing n increases the complexity of the model so the model can correctly classify more points.\n",
    "For values of n larger than the number of points minus one you can always find a rule that will correctly classify all of them regardless of the n points.\n",
    "For any other values of n, increasing it, means that more points can be classified correctly if not all (depending on the arrangement).\n",
    "\n",
    "**Disadvantages**:\n",
    "Using polynomial features will most likely lead to overfitting for large values of n, so while the model will work for the given points for a set of $w_i$, applying that model to any other set will likely lead to an incorrect classification, in other words it generalises poorly.\n",
    "\n",
    "Increasing the number of parameters, makes it more difficult to find the right features. "
   ]
  },
  {
   "cell_type": "markdown",
   "metadata": {},
   "source": [
    "## Question 1 d)"
   ]
  },
  {
   "cell_type": "markdown",
   "metadata": {},
   "source": [
    "Consider the function $\\sigma(t) = \\frac{cos(t)}{2} + \\frac{1}{2} \\\\$\n",
    "our binary classifier is $$ \\sigma(\\xi(t)) = \\frac{cos(wt+b)}{2} + \\frac{1}{2} $$\n",
    "and by picking $w = \\pi; b = 0$ \n",
    "we get $$ \\sigma(\\xi(t)) = \\frac{cos(\\pi t)}{2} + \\frac{1}{2} $$\n",
    "which is $ 1 \\ge 0.5$  for any even number as it would be multiple of $2\\pi$ and $ 0 < 0.5$ for any odd number as it would be an odd number of $\\pi s$\n",
    "So this function satisfies one of $w \\text{ or } b$ to be $ 0 $ and still correctly classify all points.\n"
   ]
  },
  {
   "cell_type": "markdown",
   "metadata": {},
   "source": [
    "## Question 2"
   ]
  },
  {
   "cell_type": "markdown",
   "metadata": {},
   "source": [
    "## Question 2a)"
   ]
  },
  {
   "cell_type": "code",
   "execution_count": 30,
   "metadata": {},
   "outputs": [
    {
     "name": "stdout",
     "output_type": "stream",
     "text": [
      "(1797, 64)\n",
      "(1797,)\n"
     ]
    }
   ],
   "source": [
    "#We use the snippet code to load all of the data\n",
    "import numpy as np \n",
    "import matplotlib.pyplot as plt\n",
    "from cw_utils import (dataloader,initialize_with_zeros,\n",
    "                      sigmoid, propagate, optimize, predict, model)\n",
    "\n",
    "X_all, z_all = dataloader()\n",
    "print(X_all.shape)\n",
    "print(z_all.shape)"
   ]
  },
  {
   "cell_type": "code",
   "execution_count": 31,
   "metadata": {},
   "outputs": [
    {
     "name": "stdout",
     "output_type": "stream",
     "text": [
      "[0 1 2 3 4 5 6 7 8 9 0 1 2 3 4]\n"
     ]
    }
   ],
   "source": [
    "print(z_all[0:15])\n",
    "#They go in order so that index is the same as value for first 10 digits"
   ]
  },
  {
   "cell_type": "code",
   "execution_count": 32,
   "metadata": {},
   "outputs": [
    {
     "data": {
      "image/png": "[encoded data removed]",
      "text/plain": [
       "<Figure size 640x480 with 3 Axes>"
      ]
     },
     "metadata": {},
     "output_type": "display_data"
    }
   ],
   "source": [
    "ns = [2,5,6]\n",
    "\n",
    "\n",
    "fig, ax = plt.subplots(1,len(ns))\n",
    "for i in range(len(ns)):\n",
    "    ax[i].imshow(X_all[ns[i]].reshape(8,8))\n",
    "    ax[i].axis('off')\n",
    "    ax[i].set_title(f\"Image of value {z_all[ns[i]]}\")\n"
   ]
  },
  {
   "cell_type": "markdown",
   "metadata": {},
   "source": [
    "## Quesiton 2 b) i)"
   ]
  },
  {
   "cell_type": "markdown",
   "metadata": {},
   "source": [
    "We use the function chosen in 1 d) $\\sigma(\\xi(t)) = \\frac{cos(\\pi t) + 1}{2}$ as we know it works.\n",
    "\n",
    "And we can check whether it is right by using the mod function"
   ]
  },
  {
   "cell_type": "code",
   "execution_count": 33,
   "metadata": {},
   "outputs": [
    {
     "name": "stdout",
     "output_type": "stream",
     "text": [
      "Calculated labels: [1. 0. 1. ... 1. 0. 1.]\n",
      "Check labels: [1 0 1 ... 1 0 1]\n",
      "the difference between them is 0.0\n"
     ]
    }
   ],
   "source": [
    "y_all = (np.cos(np.pi * z_all) + 1)/ 2  #Broadcasting so able to this\n",
    "print(f\"Calculated labels: {y_all}\")\n",
    "\n",
    "#We use our sigma as in question 1 d) which is \n",
    "y_check = (z_all + 1) % 2\n",
    "print(f\"Check labels: {y_check}\")\n",
    "\n",
    "print(f\"the difference between them is {np.sum(np.array(y_check)- y_all)}\") # calculates number of values that differ in the 2 lists and since it is 0 we know the lists are the same\n"
   ]
  },
  {
   "cell_type": "markdown",
   "metadata": {},
   "source": [
    "## Quesiton 2 b) ii)"
   ]
  },
  {
   "cell_type": "code",
   "execution_count": 34,
   "metadata": {},
   "outputs": [],
   "source": [
    "np.random.seed(0)\n",
    "#zip the values into tuple pairs, shuffle and unzip\n",
    "xandy = list(zip(X_all, y_all))\n",
    "np.random.shuffle(xandy)\n",
    "X_all_rand, y_all_rand = list(zip(*xandy))\n",
    "\n",
    "\n",
    "X_all_rand_arr = np.array(X_all_rand)\n",
    "y_all_rand_arr = np.array(y_all_rand).reshape(1,1797)\n",
    "\n",
    "#split into training and test\n",
    "X_train = X_all_rand_arr[:1258].T\n",
    "X_test = X_all_rand_arr[1258:].T\n",
    "y_train = y_all_rand_arr[:,:1258]\n",
    "y_test = y_all_rand_arr[:,1258:]\n",
    "\n",
    "#check if the values are right\n",
    "assert(X_train.shape == (64,1258))\n",
    "assert(X_test.shape == (64, 539))\n",
    "assert(y_train.shape == (1, 1258 ))\n",
    "assert(y_test.shape == (1, 539))\n"
   ]
  },
  {
   "cell_type": "markdown",
   "metadata": {},
   "source": [
    "## Question b) iii)"
   ]
  },
  {
   "cell_type": "code",
   "execution_count": 35,
   "metadata": {},
   "outputs": [],
   "source": [
    "max_of_maxes = [np.max(x) for x in X_train]\n",
    "max_colour_val = max(max_of_maxes)\n",
    "min_of_mins = [np.min(x) for x in X_train]\n",
    "min_colour_val = max(min_of_mins)\n",
    "\n",
    "\n",
    "\n",
    "normalised_X_train = [ (x - min_colour_val) / (max_colour_val - min_colour_val) for x in X_train]\n",
    "normalised_X_test = [ (x - min_colour_val) / (max_colour_val - min_colour_val) for x in X_test]\n",
    "normalised_X_train = np.array(normalised_X_train)\n",
    "normalised_X_test = np.array(normalised_X_test)\n",
    "\n",
    "\n",
    "assert(normalised_X_train.shape == (64,1258))\n",
    "assert(normalised_X_test.shape == (64, 539))"
   ]
  },
  {
   "cell_type": "markdown",
   "metadata": {},
   "source": [
    "I picked uniform scaling as the the relative distance between pixels (distance in terms of colour values ) is preserved so the image will look the same when plotted with the new $[0,1]$ range.\n",
    "A Disadavantage of using this uniform normalisation is that with such a small grid any low contrasting neighbouring pixels will remain low contrasting finding it just as hard to distinguish between some of the less clear digits like between 8 and 3 for example.\n",
    "Another issue may arise if we are given a new training data set whose pixel values go beyond 16. The normalisation may go above 1 for the largest pixel value. \n",
    "Whereas the sigmoid function, for example, would still always normalise it to $(0,1)$.\n"
   ]
  },
  {
   "cell_type": "markdown",
   "metadata": {},
   "source": [
    "## Question 2 b iv)"
   ]
  },
  {
   "cell_type": "code",
   "execution_count": 36,
   "metadata": {},
   "outputs": [
    {
     "name": "stdout",
     "output_type": "stream",
     "text": [
      "train accuracy: 92.60731319554849 %\n",
      "test accuracy: 92.57884972170686 %\n"
     ]
    }
   ],
   "source": [
    "np.random.seed(0)\n",
    "result = model(normalised_X_train, y_train, normalised_X_test, y_test, num_iterations= 1500, learning_rate = 0.5,print_cost= False)\n",
    "\n"
   ]
  },
  {
   "cell_type": "code",
   "execution_count": 37,
   "metadata": {},
   "outputs": [
    {
     "name": "stdout",
     "output_type": "stream",
     "text": [
      "[28, 43, 51, 56, 85, 99, 112, 115, 118, 131, 139, 148, 163, 174, 189, 194, 223, 246, 259, 265, 273, 298, 324, 349, 356, 380, 381, 382, 386, 420, 444, 459, 501, 503, 512, 517, 528, 529, 531, 536]\n"
     ]
    }
   ],
   "source": [
    "#Finding indeces of the list where the values were incorrectly labelled\n",
    "diff = result[\"Y_prediction_test\"] - y_test \n",
    "diff = diff[0]\n",
    "indices = []\n",
    "for i in range(len(diff)):\n",
    "    if diff[i] != 0.:\n",
    "        indices.append(i)\n",
    "print(indices)"
   ]
  },
  {
   "cell_type": "code",
   "execution_count": 38,
   "metadata": {},
   "outputs": [
    {
     "name": "stdout",
     "output_type": "stream",
     "text": [
      "For the left image the digit is clearly 1 which is odd but the predicted value is 1, \n",
      "and for the right picture the digit is 8 but the model predicted it to be odd\n"
     ]
    },
    {
     "data": {
      "image/png": "[encoded data removed]",
      "text/plain": [
       "<Figure size 640x480 with 2 Axes>"
      ]
     },
     "metadata": {},
     "output_type": "display_data"
    }
   ],
   "source": [
    "ns = [28, 43]\n",
    "fig, ax = plt.subplots(1,2)\n",
    "for i in range(2):\n",
    "    ax[i].imshow(X_test[:,ns[i]].reshape(8,8))\n",
    "    ax[i].axis('off')\n",
    "    #print(np.squeeze(y_test)[ns[i]])\n",
    "    ax[i].set_title(f\"Correct y: {np.squeeze(y_test)[ns[i]]}, Predicted : {result[\"Y_prediction_test\"][0][ns[i]]}\")\n",
    "\n",
    "\n",
    "print (\"For the left image the digit is clearly 1 which is odd but the predicted value is 1, \\nand for the right picture the digit is 8 but the model predicted it to be odd\")"
   ]
  },
  {
   "cell_type": "markdown",
   "metadata": {},
   "source": [
    "## Question 2 v)\n",
    "\n",
    "The first obvious way the algorithm can be improved is by changing the learning rate and number of iterations. \n",
    "\n",
    "\n"
   ]
  },
  {
   "cell_type": "code",
   "execution_count": 39,
   "metadata": {},
   "outputs": [
    {
     "name": "stdout",
     "output_type": "stream",
     "text": [
      "learning rate is: 0.5\n",
      "train accuracy: 92.60731319554849 %\n",
      "test accuracy: 92.57884972170686 %\n",
      "\n",
      "-------------------------------------------------------\n",
      "\n",
      "learning rate is: 0.05\n",
      "train accuracy: 90.30206677265501 %\n",
      "test accuracy: 90.9090909090909 %\n",
      "\n",
      "-------------------------------------------------------\n",
      "\n",
      "learning rate is: 0.005\n",
      "train accuracy: 86.8839427662957 %\n",
      "test accuracy: 84.9721706864564 %\n",
      "\n",
      "-------------------------------------------------------\n",
      "\n"
     ]
    },
    {
     "data": {
      "image/png": "[encoded data removed]",
      "text/plain": [
       "<Figure size 640x480 with 1 Axes>"
      ]
     },
     "metadata": {},
     "output_type": "display_data"
    }
   ],
   "source": [
    "learning_rates = [0.5, 0.05, 0.005]\n",
    "models = {}\n",
    "for i in learning_rates:\n",
    "    print (\"learning rate is: \" + str(i))\n",
    "    models[str(i)] = model(normalised_X_train, y_train, normalised_X_test, y_test, num_iterations = 1500, learning_rate = i, print_cost = False)\n",
    "    print ('\\n' + \"-------------------------------------------------------\" + '\\n')\n",
    "\n",
    "for i in learning_rates:\n",
    "    plt.plot(np.squeeze(models[str(i)][\"costs\"]), label= str(models[str(i)][\"learning_rate\"]))\n",
    "\n",
    "plt.ylabel('cost')\n",
    "plt.xlabel('iterations (hundreds)')\n",
    "legend = plt.legend(loc='upper center', shadow=True)\n",
    "frame = legend.get_frame()\n",
    "frame.set_facecolor('0.90')\n",
    "plt.show()"
   ]
  },
  {
   "cell_type": "code",
   "execution_count": 40,
   "metadata": {},
   "outputs": [
    {
     "name": "stdout",
     "output_type": "stream",
     "text": [
      "number of iterations: 1500\n",
      "train accuracy: 92.60731319554849 %\n",
      "test accuracy: 92.57884972170686 %\n",
      "\n",
      "-------------------------------------------------------\n",
      "\n",
      "number of iterations: 5000\n",
      "train accuracy: 92.52782193958664 %\n",
      "test accuracy: 92.02226345083488 %\n",
      "\n",
      "-------------------------------------------------------\n",
      "\n",
      "number of iterations: 10000\n",
      "train accuracy: 92.84578696343402 %\n",
      "test accuracy: 91.28014842300557 %\n",
      "\n",
      "-------------------------------------------------------\n",
      "\n",
      "number of iterations: 100000\n",
      "train accuracy: 93.1637519872814 %\n",
      "test accuracy: 91.4656771799629 %\n",
      "\n",
      "-------------------------------------------------------\n",
      "\n"
     ]
    }
   ],
   "source": [
    "num_iterations = [1500,5000,10000,100000]\n",
    "models = {}\n",
    "for i in num_iterations:\n",
    "    print (\"number of iterations: \" + str(i))\n",
    "    models[str(i)] = model(normalised_X_train, y_train, normalised_X_test, y_test, num_iterations = i, learning_rate = 0.5, print_cost = False)\n",
    "    print ('\\n' + \"-------------------------------------------------------\" + '\\n')\n",
    "\n"
   ]
  },
  {
   "cell_type": "markdown",
   "metadata": {},
   "source": [
    "As can be, seen decreasing the size of the learning_rate, the convergence becomes a lot slower and the accuracy achieved decreases with the size of the parameter. This is due to number of iterations being too low for the algorithm to converge to a meaningfully small value.\n",
    "In the second piece of code I change the number of iterations to see how the test accuracy will be affected and increasing the iterations doesn't change the accuracies that much. As can be seen the training accuracy increases a little bit while the test accuracy decreases, this is most likely due to overfitting, as the model is learning the training data really well which is less applicable to the test data."
   ]
  },
  {
   "cell_type": "markdown",
   "metadata": {},
   "source": [
    "## Changes\n",
    "\n",
    "Above analysis tells us that the complexity of our 1 layer network doesn't allow for all of the features, such as edges and shapes, of the data to be learnt so it limits its own accuracy on the model.\n",
    "\n",
    "We can increase complexity by adding a hidden layer to create a neural network, and introducing non-linearity so the model can learn all the necessary features.\n",
    "\n",
    "\n",
    "\n",
    "We will change all of the functions provided so they can be applied to the new model and for that we will need to introduce more functions:\n",
    "\n",
    "\n",
    "initialise_parameters, sigmoid, relu, relu_backward, sigmoid_backward, linear_forward, linear_activation_forward, model_forward, compute_cost, linear_backward, linear_activation_backward, update_parameters, two_layer_model, predict are all functions taken from Lab Sessions 4 and 5\n",
    "namely the MA30279_Week4_LS4part1.ipynb and MA30279_Week5_LS4part2.ipynb as well as the dnn_app_utils.py code snippets kindly provided by Lisa Kreusser.\n",
    "Some of the funtions have been modified from the Lab Session ones to fit the model.\n",
    "\n"
   ]
  },
  {
   "cell_type": "markdown",
   "metadata": {},
   "source": [
    "We change initialize_with_zeros function to create more initial paramteres and instead of using zeroes everywhere we will initialise $w_2$ with some small random perturbation to break symmetry between different neurons and allow them to learn different features during training, ensuring the neurons don't learn the same things."
   ]
  },
  {
   "cell_type": "code",
   "execution_count": 41,
   "metadata": {},
   "outputs": [],
   "source": [
    "def initialise_parameters(n_x, n_h, n_y):    \n",
    "\n",
    "    W1 = np.random.randn(n_h,n_x)*0.01\n",
    "    b1 = np.zeros((n_h,1))\n",
    "    W2 = np.random.randn(n_y,n_h)*0.01\n",
    "    b2 = np.zeros((n_y,1))\n",
    "\n",
    "    \n",
    "    assert(W1.shape == (n_h, n_x))\n",
    "    assert(b1.shape == (n_h, 1))\n",
    "    assert(W2.shape == (n_y, n_h))\n",
    "    assert(b2.shape == (n_y, 1))\n",
    "    \n",
    "    parameters = {\"W1\": W1,\n",
    "                  \"b1\": b1,\n",
    "                  \"W2\": W2,\n",
    "                  \"b2\": b2}\n",
    "    \n",
    "    return parameters"
   ]
  },
  {
   "cell_type": "markdown",
   "metadata": {},
   "source": [
    "Then we need to introduce some more activator functions. We introduce ReLu to use on the first layer to introduce some non-linearity.\n",
    "\n",
    "We also implement the backword propagations for a single unit of both activation functions which is $dz = dA \\sigma'$ to be used later in the code.\n",
    "\n",
    "We also change the sigmoid function from the previous question so it keeps the value of Z in cache which will be useful in backpropagation."
   ]
  },
  {
   "cell_type": "code",
   "execution_count": 42,
   "metadata": {},
   "outputs": [],
   "source": [
    "def sigmoid(Z):\n",
    "    \"\"\"\n",
    "    Implements the sigmoid activation in numpy\n",
    "    \n",
    "    Arguments:\n",
    "    Z -- numpy array of any shape\n",
    "    \n",
    "    Returns:\n",
    "    A -- output of sigmoid(z), same shape as Z\n",
    "    cache -- returns Z as well, useful during backpropagation\n",
    "    \"\"\"\n",
    "    \n",
    "    A = 1/(1+np.exp(-Z))\n",
    "    cache = Z\n",
    "    \n",
    "    return A, cache\n",
    "\n",
    "def relu(Z):\n",
    "    \"\"\"\n",
    "    Implement the RELU function.\n",
    "    \n",
    "    Arguments:\n",
    "    Z -- Output of the linear layer, of any shape\n",
    "    \n",
    "    Returns:\n",
    "    A -- Post-activation parameter, of the same shape as Z\n",
    "    cache -- a python dictionary containing \"A\" ; stored for computing the backward pass efficiently\n",
    "    \"\"\"\n",
    "    \n",
    "    A = np.maximum(0,Z)\n",
    "    \n",
    "    assert(A.shape == Z.shape)\n",
    "    \n",
    "    cache = Z \n",
    "    return A, cache\n",
    "\n",
    "\n",
    "def relu_backward(dA, cache):\n",
    "    \"\"\"\n",
    "    Implement the backward propagation for a single RELU unit.\n",
    "    \n",
    "    Arguments:\n",
    "    dA -- post-activation gradient, of any shape\n",
    "    cache -- 'Z' where we store for computing backward propagation efficiently\n",
    "    \n",
    "    Returns:\n",
    "    dZ -- Gradient of the cost with respect to Z\n",
    "    \"\"\"\n",
    "    \n",
    "    Z = cache\n",
    "    dZ = np.array(dA, copy=True) # just converting dz to a correct object.\n",
    "    \n",
    "    # When z <= 0, you should set dz to 0 as well. \n",
    "    dZ[Z <= 0] = 0\n",
    "    \n",
    "    assert (dZ.shape == Z.shape)\n",
    "    \n",
    "    return dZ\n",
    "\n",
    "def sigmoid_backward(dA, cache):\n",
    "    \"\"\"\n",
    "    Implement the backward propagation for a single SIGMOID unit.\n",
    "    \n",
    "    Arguments:\n",
    "    dA -- post-activation gradient, of any shape\n",
    "    cache -- 'Z' where we store for computing backward propagation efficiently\n",
    "    \n",
    "    Returns:\n",
    "    dZ -- Gradient of the cost with respect to Z\n",
    "    \"\"\"\n",
    "    \n",
    "    Z = cache\n",
    "    \n",
    "    s = 1/(1+np.exp(-Z))\n",
    "    dZ = dA * s * (1-s)\n",
    "    \n",
    "    assert (dZ.shape == Z.shape)\n",
    "    \n",
    "    return dZ"
   ]
  },
  {
   "cell_type": "markdown",
   "metadata": {},
   "source": [
    "Next 3 functions all correspond to doing the forward propogation:\n",
    "\n",
    "linear_forward just calculates the linear part of each layer $ \\boldsymbol{z}^{[l](i)} = \\boldsymbol{W}^{[l]}\\boldsymbol{a}^{[l-1](i)} + \\boldsymbol{b}^{[l]} $\n",
    "\n",
    "linear_activation_forward applied the activation function to the linear part $\\boldsymbol{a}^{[l](i)} = g^{[l]}(\\boldsymbol{z}^{[l](i)})$\n",
    "\n",
    "model_forward applies that to both of the layers"
   ]
  },
  {
   "cell_type": "code",
   "execution_count": 43,
   "metadata": {},
   "outputs": [],
   "source": [
    "def linear_forward(A, W, b):\n",
    "    \"\"\"\n",
    "    Implement the linear part of a layer's forward propagation.\n",
    "\n",
    "    Arguments:\n",
    "    A - activations from previous layer (or input data): (size of previous layer, number of examples)\n",
    "    W - weights matrix: numpy array of shape (size of current layer, size of previous layer)\n",
    "    b - bias vector, numpy array of shape (size of the current layer, 1)\n",
    "\n",
    "    Returns:\n",
    "    Z - the input of the activation function, also called pre-activation parameter \n",
    "    cache - a python dictionary containing \"A\", \"W\" and \"b\" ; stored for computing the backward pass efficiently\n",
    "    \"\"\"\n",
    "    \n",
    "    Z = np.dot(W,A) + b\n",
    "    \n",
    "    assert(Z.shape == (W.shape[0], A.shape[1]))\n",
    "    cache = (A, W, b)\n",
    "    \n",
    "    return Z, cache"
   ]
  },
  {
   "cell_type": "code",
   "execution_count": 44,
   "metadata": {},
   "outputs": [],
   "source": [
    "def linear_activation_forward(A_prev, W, b, activation):\n",
    "    \"\"\"\n",
    "    Implement the forward propagation for the LINEAR->ACTIVATION layer\n",
    "\n",
    "    Arguments:\n",
    "    A_prev - activations from previous layer (or input data): (size of previous layer, number of examples)\n",
    "    W - weights matrix: numpy array of shape (size of current layer, size of previous layer)\n",
    "    b - bias vector, numpy array of shape (size of the current layer, 1)\n",
    "    activation - the activation to be used in this layer, stored as a text string: \"sigmoid\" or \"relu\"\n",
    "\n",
    "    Returns:\n",
    "    A - the output of the activation function, also called the post-activation value \n",
    "    cache - a python dictionary containing \"linear_cache\" and \"activation_cache\";\n",
    "             stored for computing the backward pass efficiently\n",
    "    \"\"\"\n",
    "    \n",
    "    if activation == \"sigmoid\":\n",
    "        Z, linear_cache = linear_forward(A_prev, W, b)\n",
    "        A, activation_cache = sigmoid(Z)\n",
    "    \n",
    "    elif activation == \"relu\":\n",
    "        Z, linear_cache = linear_forward(A_prev, W, b)\n",
    "        A, activation_cache = relu(Z) \n",
    "    \n",
    "    assert (A.shape == (W.shape[0], A_prev.shape[1]))\n",
    "    cache = (linear_cache, activation_cache)\n",
    "\n",
    "    return A, cache"
   ]
  },
  {
   "cell_type": "code",
   "execution_count": 45,
   "metadata": {},
   "outputs": [],
   "source": [
    "def model_forward(X, parameters):\n",
    "    \"\"\"\n",
    "    Implement forward propagation for the [LINEAR->RELU]*(L-1)->LINEAR->SIGMOID computation\n",
    "    \n",
    "    Arguments:\n",
    "    X - data, numpy array of shape (input size, number of examples)\n",
    "    parameters - output of initialize_parameters_deep()\n",
    "    \n",
    "    Returns:\n",
    "    AL - last post-activation value\n",
    "    caches - list of caches containing:\n",
    "             every cache of linear_activation_forward() (there are L-1 of them, indexed from 0 to L-1)\n",
    "    \"\"\"\n",
    "\n",
    "    caches = []\n",
    "    A = X\n",
    "\n",
    "    A, cache = linear_activation_forward(A, parameters['W1'], parameters['b1'], activation = \"relu\")\n",
    "    caches.append(cache)\n",
    "    \n",
    "    AL, cache = linear_activation_forward(A, parameters['W2'], parameters['b2'], activation = \"sigmoid\")\n",
    "    caches.append(cache)\n",
    "    \n",
    "    assert(AL.shape == (1,X.shape[1]))\n",
    "            \n",
    "    return AL, caches"
   ]
  },
  {
   "cell_type": "markdown",
   "metadata": {},
   "source": [
    "Compute_cost allows computes the current cost\n",
    "$$\\mathcal{J} =-\\frac{1}{m} \\sum\\limits_{i = 1}^{m} \\left(\\boldsymbol{y}^{(i)}\\log\\left(\\boldsymbol{a}^{[L] (i)}\\right) + (1-\\boldsymbol{y}^{(i)})\\log\\left(1- \\boldsymbol{a}^{[L](i)}\\right) \\right)$$\n",
    "\n",
    "Which allows us to draw the graph"
   ]
  },
  {
   "cell_type": "code",
   "execution_count": 46,
   "metadata": {},
   "outputs": [],
   "source": [
    "def compute_cost(AL, Y):\n",
    "    \"\"\"\n",
    "    Implement the cost function defined by equation (7).\n",
    "\n",
    "    Arguments:\n",
    "    AL - probability vector corresponding to your label predictions, shape (1, number of examples)\n",
    "    Y - true \"label\" vector (for example: containing 0 if non-cat, 1 if cat), shape (1, number of examples)\n",
    "\n",
    "    Returns:\n",
    "    cost - cross-entropy cost\n",
    "    \"\"\"\n",
    "    m = Y.shape[0]\n",
    "\n",
    "\n",
    "    cost = -1/m * np.sum( np.multiply(np.log(AL),Y) + np.multiply(np.log(1-AL),1-Y) )\n",
    "\n",
    "    \n",
    "    cost = np.squeeze(cost)\n",
    "    assert(cost.shape == ())\n",
    "    \n",
    "    return cost"
   ]
  },
  {
   "cell_type": "markdown",
   "metadata": {},
   "source": [
    "Following part does the backward propogation.\n",
    "\n",
    "Linear_backward calculates the gradients of the linear parts  $(d\\boldsymbol{W}^{[\\ell]}, d\\boldsymbol{b}^{[\\ell]},  d\\boldsymbol{A}^{[\\ell-1]})$.\n",
    "\n",
    "The three outputs $(d\\boldsymbol{W}^{[\\ell]}, d\\boldsymbol{b}^{[\\ell]},  d\\boldsymbol{A}^{[\\ell-1]})$ are computed using the input $d\\boldsymbol{Z}^{[\\ell]}$. Here are the formulas you need: \n",
    "$$ d\\boldsymbol{W}^{[\\ell]} = \\frac{\\partial \\mathcal{L} }{\\partial \\boldsymbol{W}^{[\\ell]}} = \\frac{1}{m} d\\boldsymbol{Z}^{[\\ell]} \\boldsymbol{A}^{[l-1]^\\top}$$\n",
    "$$ d\\boldsymbol{b}^{[\\ell]} = \\frac{\\partial \\mathcal{L} }{\\partial \\boldsymbol{b}^{[\\ell]}} = \\frac{1}{m} \\sum_{i = 1}^{m} d\\boldsymbol{Z}^{[\\ell](i)}$$\n",
    "$$ d\\boldsymbol{A}^{[\\ell-1]} = \\frac{\\partial \\mathcal{L} }{\\partial \\boldsymbol{A}^{[\\ell-1]}} = \\boldsymbol{W}^{[\\ell]^\\top} d\\boldsymbol{Z}^{[\\ell]}$$\n",
    "\n",
    "\n",
    "linear_activation_backward calculates the gradient of Z namely: $$d\\boldsymbol{Z}^{[\\ell]} = d\\boldsymbol{A}^{[\\ell]} \\cdot g'(\\boldsymbol{Z}^{[\\ell]})$$\n"
   ]
  },
  {
   "cell_type": "code",
   "execution_count": 47,
   "metadata": {},
   "outputs": [],
   "source": [
    "def linear_backward(dZ, cache):\n",
    "    \"\"\"\n",
    "    Implement the linear portion of backward propagation for a single layer (layer l)\n",
    "\n",
    "    Arguments:\n",
    "    dZ - Gradient of the cost with respect to the linear output (of current layer l)\n",
    "    cache - tuple of values (A_prev, W, b) coming from the forward propagation in the current layer\n",
    "\n",
    "    Returns:\n",
    "    dA_prev - Gradient of the cost with respect to the activation (of the previous layer l-1), same shape as A_prev\n",
    "    dW - Gradient of the cost with respect to W (current layer l), same shape as W\n",
    "    db - Gradient of the cost with respect to b (current layer l), same shape as b\n",
    "    \"\"\"\n",
    "    A_prev, W, b = cache\n",
    "    m = A_prev.shape[1]\n",
    "\n",
    "    dW = 1/m * np.dot(dZ,A_prev.T)\n",
    "    db = 1/m * np.sum(dZ,axis=1,keepdims=True)\n",
    "    dA_prev = np.dot(W.T,dZ)\n",
    "    \n",
    "    assert (dA_prev.shape == A_prev.shape)\n",
    "    assert (dW.shape == W.shape)\n",
    "    assert (db.shape == b.shape)\n",
    "    \n",
    "    return dA_prev, dW, db"
   ]
  },
  {
   "cell_type": "code",
   "execution_count": 48,
   "metadata": {},
   "outputs": [],
   "source": [
    "def linear_activation_backward(dA, cache, activation):\n",
    "    \"\"\"\n",
    "    Implement the backward propagation for the LINEAR->ACTIVATION layer.\n",
    "    \n",
    "    Arguments:\n",
    "    dA - post-activation gradient for current layer l \n",
    "    cache - tuple of values (linear_cache, activation_cache) we store for computing backward propagation efficiently\n",
    "    activation - the activation to be used in this layer, stored as a text string: \"sigmoid\" or \"relu\"\n",
    "    \n",
    "    Returns:\n",
    "    dA_prev - Gradient of the cost with respect to the activation (of the previous layer l-1), same shape as A_prev\n",
    "    dW - Gradient of the cost with respect to W (current layer l), same shape as W\n",
    "    db - Gradient of the cost with respect to b (current layer l), same shape as b\n",
    "    \"\"\"\n",
    "    linear_cache, activation_cache = cache\n",
    "    \n",
    "    if activation == \"relu\":\n",
    "        dZ = relu_backward(dA, activation_cache)\n",
    "        dA_prev, dW, db = linear_backward(dZ, linear_cache)\n",
    "        \n",
    "    elif activation == \"sigmoid\":\n",
    "        dZ = sigmoid_backward(dA, activation_cache)\n",
    "        dA_prev, dW, db = linear_backward(dZ, linear_cache)\n",
    "    \n",
    "    return dA_prev, dW, db"
   ]
  },
  {
   "cell_type": "markdown",
   "metadata": {},
   "source": [
    "Update_parameters just performs gradient decent."
   ]
  },
  {
   "cell_type": "code",
   "execution_count": 49,
   "metadata": {},
   "outputs": [],
   "source": [
    "def update_parameters(parameters, grads, learning_rate):\n",
    "    \"\"\"\n",
    "    Update parameters using gradient descent\n",
    "    \n",
    "    Arguments:\n",
    "    parameters - python dictionary containing your parameters \n",
    "    grads - python dictionary containing your gradients, output of L_model_backward\n",
    "    \n",
    "    Returns:\n",
    "    parameters - python dictionary containing your updated parameters \n",
    "                 parameters[\"W\" + str(l)] = ... \n",
    "                 parameters[\"b\" + str(l)] = ...\n",
    "    \"\"\"\n",
    "    \n",
    "    parameters[\"W1\"] = parameters[\"W1\"] - learning_rate * grads[\"dW1\"]\n",
    "    parameters[\"b1\"] = parameters[\"b1\"] - learning_rate * grads[\"db1\"]\n",
    "    parameters[\"W2\"] = parameters[\"W2\"] - learning_rate * grads[\"dW2\"]\n",
    "    parameters[\"b2\"] = parameters[\"b2\"] - learning_rate * grads[\"db2\"]\n",
    "    \n",
    "    return parameters"
   ]
  },
  {
   "cell_type": "markdown",
   "metadata": {},
   "source": [
    "two_layer_model runs the entire model. We pick value of 0.75 for our step as it provides the best results.\n",
    "\n",
    "predict runs the model on test and train data to give us accuracy on seen and unseen data."
   ]
  },
  {
   "cell_type": "code",
   "execution_count": 50,
   "metadata": {},
   "outputs": [],
   "source": [
    "def two_layer_model(X, Y, layers_dims, learning_rate = 0.75, num_iterations = 3000, print_cost=False):\n",
    "    \"\"\"\n",
    "    Implements a two-layer neural network: LINEAR->RELU->LINEAR->SIGMOID.\n",
    "    \n",
    "    Arguments:\n",
    "    X - input data, of shape (n_x, number of examples)\n",
    "    Y - true \"label\" vector (containing 0 if cat, 1 if non-cat), of shape (1, number of examples)\n",
    "    layers_dims - dimensions of the layers (n_x, n_h, n_y)\n",
    "    num_iterations - number of iterations of the optimization loop\n",
    "    learning_rate - learning rate of the gradient descent update rule\n",
    "    print_cost - If set to True, this will print the cost every 100 iterations \n",
    "    \n",
    "    Returns:\n",
    "    parameters - a dictionary containing W1, W2, b1, and b2\n",
    "    \"\"\"\n",
    "\n",
    "    grads = {}\n",
    "    costs = []                       \n",
    "    m = X.shape[1]                           \n",
    "    (n_x, n_h, n_y) = layers_dims\n",
    "    \n",
    "    parameters = initialise_parameters(n_x, n_h, n_y)\n",
    "\n",
    "    W1 = parameters[\"W1\"]\n",
    "    b1 = parameters[\"b1\"]\n",
    "    W2 = parameters[\"W2\"]\n",
    "    b2 = parameters[\"b2\"]\n",
    "    \n",
    "    for i in range(0, num_iterations):\n",
    "\n",
    "        A1, cache1 = linear_activation_forward(X, W1, b1, activation='relu')\n",
    "        A2, cache2 = linear_activation_forward(A1, W2, b2, activation='sigmoid')\n",
    "\n",
    "        cost = compute_cost(A2, Y)\n",
    "\n",
    "        dA2 = - (np.divide(Y, A2) - np.divide(1 - Y, 1 - A2))\n",
    "        \n",
    "        dA1, dW2, db2 = linear_activation_backward(dA2, cache2, activation='sigmoid')\n",
    "        dA0, dW1, db1 = linear_activation_backward(dA1, cache1, activation='relu')\n",
    "\n",
    "        grads['dW1'] = dW1\n",
    "        grads['db1'] = db1\n",
    "        grads['dW2'] = dW2\n",
    "        grads['db2'] = db2\n",
    "        \n",
    "        parameters = update_parameters(parameters, grads, learning_rate)\n",
    "\n",
    "        W1 = parameters[\"W1\"]\n",
    "        b1 = parameters[\"b1\"]\n",
    "        W2 = parameters[\"W2\"]\n",
    "        b2 = parameters[\"b2\"]\n",
    "        \n",
    "        if print_cost and i % 100 == 0:\n",
    "            print(\"Cost after iteration {}: {}\".format(i, np.squeeze(cost)))\n",
    "        if print_cost and i % 100 == 0:\n",
    "            costs.append(cost)\n",
    "\n",
    "    plt.plot(np.squeeze(costs))\n",
    "    plt.ylabel('cost')\n",
    "    plt.xlabel('iterations (per tens)')\n",
    "    plt.title(\"Learning rate =\" + str(learning_rate))\n",
    "    plt.show()\n",
    "    \n",
    "    return parameters"
   ]
  },
  {
   "cell_type": "code",
   "execution_count": 51,
   "metadata": {},
   "outputs": [],
   "source": [
    "def predict(X, Y, parameters):\n",
    "    \"\"\"\n",
    "    This function is used to predict the results of a  L-layer neural network.\n",
    "    \n",
    "    Arguments:\n",
    "    X - input data, of shape (n_x, number of examples)\n",
    "    Y - true \"label\" vector (containing 0 if cat, 1 if non-cat), of shape (1, number of examples)\n",
    "    parameters -- parameters of the trained model\n",
    "    \n",
    "    Returns:\n",
    "    p -- predictions for the given dataset X\n",
    "    \"\"\"\n",
    "    \n",
    "    m = X.shape[1]\n",
    "    n = len(parameters) // 2\n",
    "    p = np.zeros((1,m))\n",
    "\n",
    "    yhat, caches = model_forward(X, parameters)\n",
    "\n",
    "    for i in range(0, yhat.shape[1]):\n",
    "        if yhat[0,i] > 0.5:\n",
    "            p[0,i] = 1\n",
    "        else:\n",
    "            p[0,i] = 0\n",
    "\n",
    "    print(\"Accuracy: \"  + str(np.sum((p == Y)/m)))\n",
    "        \n",
    "    return p"
   ]
  },
  {
   "cell_type": "markdown",
   "metadata": {},
   "source": [
    "Now we run the model we pick the hidden layer to have 7 neurons."
   ]
  },
  {
   "cell_type": "code",
   "execution_count": 52,
   "metadata": {},
   "outputs": [
    {
     "name": "stdout",
     "output_type": "stream",
     "text": [
      "Cost after iteration 0: 871.9376210061605\n",
      "Cost after iteration 100: 316.13551325564544\n",
      "Cost after iteration 200: 181.79485356964437\n",
      "Cost after iteration 300: 146.15434741244206\n",
      "Cost after iteration 400: 99.75581925483183\n",
      "Cost after iteration 500: 78.95218137219261\n",
      "Cost after iteration 600: 65.45100665826716\n",
      "Cost after iteration 700: 51.945146153033605\n",
      "Cost after iteration 800: 45.16422246790802\n",
      "Cost after iteration 900: 36.29750762669099\n",
      "Cost after iteration 1000: 31.682464450877028\n",
      "Cost after iteration 1100: 27.552413924150365\n",
      "Cost after iteration 1200: 22.714383908686813\n",
      "Cost after iteration 1300: 18.9566663341715\n",
      "Cost after iteration 1400: 15.953759126817143\n",
      "Cost after iteration 1500: 13.558047059804498\n",
      "Cost after iteration 1600: 11.642636609949074\n",
      "Cost after iteration 1700: 10.120410316220317\n",
      "Cost after iteration 1800: 8.919377999037678\n",
      "Cost after iteration 1900: 7.935137515617434\n",
      "Cost after iteration 2000: 7.114520335546354\n",
      "Cost after iteration 2100: 6.439620573108407\n",
      "Cost after iteration 2200: 5.856678377860987\n",
      "Cost after iteration 2300: 5.362169545833761\n",
      "Cost after iteration 2400: 4.9398095762212115\n"
     ]
    },
    {
     "data": {
      "image/png": "[encoded data removed]",
      "text/plain": [
       "<Figure size 640x480 with 1 Axes>"
      ]
     },
     "metadata": {},
     "output_type": "display_data"
    }
   ],
   "source": [
    "np.random.seed(0)\n",
    "parameters = two_layer_model(normalised_X_train, y_train, layers_dims = (64, 7, 1), num_iterations = 2500, print_cost=True)"
   ]
  },
  {
   "cell_type": "code",
   "execution_count": 53,
   "metadata": {},
   "outputs": [
    {
     "name": "stdout",
     "output_type": "stream",
     "text": [
      "Training accuracy of the model:\n",
      "Accuracy: 1.0\n",
      "Testing accuracy of the model:\n",
      "Accuracy: 0.9795918367346939\n"
     ]
    }
   ],
   "source": [
    "print(\"Training accuracy of the model:\")\n",
    "predictions_train = predict(normalised_X_train, y_train, parameters)\n",
    "print(\"Testing accuracy of the model:\")\n",
    "predictions_train = predict(normalised_X_test, y_test, parameters)"
   ]
  },
  {
   "cell_type": "markdown",
   "metadata": {},
   "source": [
    "Our training accuracy of the new model is $100\\%$ which is $~7.4\\%$ larger than the previous model of $92.6\\%$.\n",
    "And the testing accuracy also incread by $~5.4\\%$ from $92.6\\%$ to $98\\%$\n",
    "\n",
    "This tells us that the training error is 0 and the generalisation error is very low for the new model which is performing really well over the previous single layer neural network.\n",
    "\n",
    "This could be potentially improved by finding more optimal hyperparameters such as our learning_step and the number of neurons in the hidden layer, however there is more hyperparameter to be tuned in the new model compared to the previous one which makes it more difficult to find the right ones.\n",
    "Apart from longer training times and increase in computational cost, another issue that may arise from the new model is the larger risk of overfitting, in this case there might be a slight case of overfitting as there is a 2% difference in the accuracy between the training and test data.\n",
    "\n",
    "On the other hand the complexity of the new model allows it to capture, and extract more non-linear patterns of the numbers such as edges and strokes as well as other features leading to a much better generalisation on unseen data and hence improved accuracy."
   ]
  },
  {
   "cell_type": "markdown",
   "metadata": {},
   "source": []
  }
 ],
 "metadata": {
  "kernelspec": {
   "display_name": "Python 3",
   "language": "python",
   "name": "python3"
  },
  "language_info": {
   "codemirror_mode": {
    "name": "ipython",
    "version": 3
   },
   "file_extension": ".py",
   "mimetype": "text/x-python",
   "name": "python",
   "nbconvert_exporter": "python",
   "pygments_lexer": "ipython3",
   "version": "3.12.0"
  }
 },
 "nbformat": 4,
 "nbformat_minor": 2
}
